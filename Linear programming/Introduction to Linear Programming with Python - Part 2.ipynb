{
 "cells": [
  {
   "cell_type": "markdown",
   "id": "1c27bd18",
   "metadata": {},
   "source": [
    "# Introduction to Linear Programming with Python - Part 1"
   ]
  },
  {
   "cell_type": "markdown",
   "id": "ae4ae410",
   "metadata": {},
   "source": [
    "In this part, we'll explore how to construct and solve the linear programming problem described below.\n",
    "\n",
    "Here is the linear programming problem:\n",
    "\n",
    "We want to find the maximum solution to the objective function:\n",
    "\n",
    "Z = 4x + 3y\n",
    "\n",
    "Subject to the following constraints:\n",
    "\n",
    "  x ≥ 0  \n",
    "  y ≥ 2  \n",
    "  2y ≤ 25 - x  \n",
    "  4y ≥ 2x - 8  \n",
    "  y ≤ 2x - 5  "
   ]
  },
  {
   "cell_type": "code",
   "execution_count": 2,
   "id": "5ee382ba",
   "metadata": {
    "execution": {
     "iopub.execute_input": "2022-04-12T15:33:37.051536Z",
     "iopub.status.busy": "2022-04-12T15:33:37.050658Z",
     "iopub.status.idle": "2022-04-12T15:33:45.500368Z",
     "shell.execute_reply": "2022-04-12T15:33:45.499209Z",
     "shell.execute_reply.started": "2022-04-12T15:33:37.051485Z"
    }
   },
   "outputs": [
    {
     "name": "stdout",
     "output_type": "stream",
     "text": [
      "Collecting pulp\n",
      "  Downloading PuLP-2.6.0-py3-none-any.whl (14.2 MB)\n",
      "\u001b[2K     \u001b[90m━━━━━━━━━━━━━━━━━━━━━━━━━━━━━━━━━━━━━━━\u001b[0m \u001b[32m14.2/14.2 MB\u001b[0m \u001b[31m243.9 MB/s\u001b[0m eta \u001b[36m0:00:00\u001b[0ma \u001b[36m0:00:01\u001b[0m\n",
      "\u001b[?25hInstalling collected packages: pulp\n",
      "Successfully installed pulp-2.6.0\n"
     ]
    }
   ],
   "source": [
    "!pip install pulp"
   ]
  },
  {
   "cell_type": "code",
   "execution_count": 3,
   "id": "441c9b67",
   "metadata": {
    "execution": {
     "iopub.execute_input": "2022-04-12T15:33:46.782285Z",
     "iopub.status.busy": "2022-04-12T15:33:46.781779Z",
     "iopub.status.idle": "2022-04-12T15:33:46.817680Z",
     "shell.execute_reply": "2022-04-12T15:33:46.816792Z",
     "shell.execute_reply.started": "2022-04-12T15:33:46.782233Z"
    }
   },
   "outputs": [],
   "source": [
    "import pulp"
   ]
  },
  {
   "cell_type": "markdown",
   "id": "855ef8dd",
   "metadata": {},
   "source": [
    "Then instantiate a problem class, we'll name it \"My LP problem\" and we're looking for an optimal maximum so we use LpMaximize²"
   ]
  },
  {
   "cell_type": "code",
   "execution_count": 4,
   "id": "23e47c1d",
   "metadata": {
    "execution": {
     "iopub.execute_input": "2022-04-12T15:33:48.974872Z",
     "iopub.status.busy": "2022-04-12T15:33:48.974453Z",
     "iopub.status.idle": "2022-04-12T15:33:48.981014Z",
     "shell.execute_reply": "2022-04-12T15:33:48.980118Z",
     "shell.execute_reply.started": "2022-04-12T15:33:48.974831Z"
    }
   },
   "outputs": [
    {
     "name": "stderr",
     "output_type": "stream",
     "text": [
      "/opt/app-root/lib64/python3.8/site-packages/pulp/pulp.py:1352: UserWarning: Spaces are not permitted in the name. Converted to '_'\n",
      "  warnings.warn(\"Spaces are not permitted in the name. Converted to '_'\")\n"
     ]
    }
   ],
   "source": [
    "my_lp_problem = pulp.LpProblem(\"My LP Problem\", pulp.LpMaximize)"
   ]
  },
  {
   "cell_type": "markdown",
   "id": "4a683603",
   "metadata": {},
   "source": [
    "We then model our decision variables using the LpVariable class. In our example, x had a lower bound of 0 and y had a lower bound of 2.\n",
    "\n",
    "Upper bounds can be assigned using the upBound parameter."
   ]
  },
  {
   "cell_type": "code",
   "execution_count": 5,
   "id": "fbef68ae",
   "metadata": {
    "execution": {
     "iopub.execute_input": "2022-04-12T15:33:50.319939Z",
     "iopub.status.busy": "2022-04-12T15:33:50.319043Z",
     "iopub.status.idle": "2022-04-12T15:33:50.324507Z",
     "shell.execute_reply": "2022-04-12T15:33:50.323602Z",
     "shell.execute_reply.started": "2022-04-12T15:33:50.319887Z"
    }
   },
   "outputs": [],
   "source": [
    "x = pulp.LpVariable('x', lowBound=0, cat='Continuous')\n",
    "y = pulp.LpVariable('y', lowBound=2, cat='Continuous')"
   ]
  },
  {
   "cell_type": "markdown",
   "id": "1e2adcc7",
   "metadata": {
    "execution": {
     "iopub.execute_input": "2022-04-09T23:13:56.063145Z",
     "iopub.status.busy": "2022-04-09T23:13:56.062526Z",
     "iopub.status.idle": "2022-04-09T23:13:56.067289Z",
     "shell.execute_reply": "2022-04-09T23:13:56.066592Z",
     "shell.execute_reply.started": "2022-04-09T23:13:56.063117Z"
    }
   },
   "source": [
    "The objective function and constraints are added using the += operator to our model. \n",
    "\n",
    "The objective function is added first, then the individual constraints."
   ]
  },
  {
   "cell_type": "code",
   "execution_count": 6,
   "id": "8fd9a801",
   "metadata": {
    "execution": {
     "iopub.execute_input": "2022-04-12T15:33:51.884793Z",
     "iopub.status.busy": "2022-04-12T15:33:51.884351Z",
     "iopub.status.idle": "2022-04-12T15:33:51.889601Z",
     "shell.execute_reply": "2022-04-12T15:33:51.889000Z",
     "shell.execute_reply.started": "2022-04-12T15:33:51.884753Z"
    }
   },
   "outputs": [],
   "source": [
    "# Objective function\n",
    "my_lp_problem += 4 * x + 3 * y, \"Z\"\n",
    "\n",
    "# Constraints\n",
    "my_lp_problem += 2 * y <= 25 - x\n",
    "my_lp_problem += 4 * y >= 2 * x - 8\n",
    "my_lp_problem += y <= 2 * x - 5"
   ]
  },
  {
   "cell_type": "markdown",
   "id": "605c8baf",
   "metadata": {},
   "source": [
    "We have now constructed our problem and can have a look at it."
   ]
  },
  {
   "cell_type": "code",
   "execution_count": 7,
   "id": "9e49583c",
   "metadata": {
    "execution": {
     "iopub.execute_input": "2022-04-12T15:33:53.452527Z",
     "iopub.status.busy": "2022-04-12T15:33:53.452095Z",
     "iopub.status.idle": "2022-04-12T15:33:53.466728Z",
     "shell.execute_reply": "2022-04-12T15:33:53.466041Z",
     "shell.execute_reply.started": "2022-04-12T15:33:53.452478Z"
    }
   },
   "outputs": [
    {
     "data": {
      "text/plain": [
       "My_LP_Problem:\n",
       "MAXIMIZE\n",
       "4*x + 3*y + 0\n",
       "SUBJECT TO\n",
       "_C1: x + 2 y <= 25\n",
       "\n",
       "_C2: - 2 x + 4 y >= -8\n",
       "\n",
       "_C3: - 2 x + y <= -5\n",
       "\n",
       "VARIABLES\n",
       "x Continuous\n",
       "2 <= y Continuous"
      ]
     },
     "execution_count": 7,
     "metadata": {},
     "output_type": "execute_result"
    }
   ],
   "source": [
    "my_lp_problem"
   ]
  },
  {
   "cell_type": "markdown",
   "id": "15f9f43e",
   "metadata": {},
   "source": [
    "PuLP supports open source linear programming solvers such as CBC and GLPK, as well as commercial solvers such as Gurobi and IBM's CPLEX.\n",
    "\n",
    "The default solver is CBC, which comes packaged with PuLP upon installation.\n",
    "\n",
    "For most applications, the open source CBC from [COIN-OR](http://www.coin-or.org/) will be enough for most simple linear programming optimisation algorithms."
   ]
  },
  {
   "cell_type": "code",
   "execution_count": 8,
   "id": "ba5ec06d",
   "metadata": {
    "execution": {
     "iopub.execute_input": "2022-04-12T15:33:55.116441Z",
     "iopub.status.busy": "2022-04-12T15:33:55.115736Z",
     "iopub.status.idle": "2022-04-12T15:33:55.136729Z",
     "shell.execute_reply": "2022-04-12T15:33:55.136094Z",
     "shell.execute_reply.started": "2022-04-12T15:33:55.116408Z"
    }
   },
   "outputs": [
    {
     "name": "stdout",
     "output_type": "stream",
     "text": [
      "Welcome to the CBC MILP Solver \n",
      "Version: 2.10.3 \n",
      "Build Date: Dec 15 2019 \n",
      "\n",
      "command line - /opt/app-root/lib64/python3.8/site-packages/pulp/apis/../solverdir/cbc/linux/64/cbc /tmp/85a7c41b1ee54e32baa3d87118796093-pulp.mps max timeMode elapsed branch printingOptions all solution /tmp/85a7c41b1ee54e32baa3d87118796093-pulp.sol (default strategy 1)\n",
      "At line 2 NAME          MODEL\n",
      "At line 3 ROWS\n",
      "At line 8 COLUMNS\n",
      "At line 17 RHS\n",
      "At line 21 BOUNDS\n",
      "At line 23 ENDATA\n",
      "Problem MODEL has 3 rows, 2 columns and 6 elements\n",
      "Coin0008I MODEL read with 0 errors\n",
      "Option for timeMode changed from cpu to elapsed\n",
      "Presolve 3 (0) rows, 2 (0) columns and 6 (0) elements\n",
      "0  Obj 6 Primal inf 3.4999999 (1) Dual inf 6.9999998 (2)\n",
      "0  Obj 6 Primal inf 3.4999999 (1) Dual inf 1e+10 (1)\n",
      "2  Obj 73.75\n",
      "Optimal - objective value 73.75\n",
      "Optimal objective 73.75 - 2 iterations time 0.002\n",
      "Option for printingOptions changed from normal to all\n",
      "Total time (CPU seconds):       0.00   (Wallclock seconds):       0.00\n",
      "\n"
     ]
    },
    {
     "data": {
      "text/plain": [
       "'Optimal'"
      ]
     },
     "execution_count": 8,
     "metadata": {},
     "output_type": "execute_result"
    }
   ],
   "source": [
    "my_lp_problem.solve()\n",
    "pulp.LpStatus[my_lp_problem.status]"
   ]
  },
  {
   "cell_type": "markdown",
   "id": "6020aa41",
   "metadata": {},
   "source": [
    "We have also checked the status of the solver, there are 5 status codes:\n",
    "* **Not Solved**: Status prior to solving the problem.\n",
    "* **Optimal**: An optimal solution has been found.\n",
    "* **Infeasible**: There are no feasible solutions (e.g. if you set the constraints x <= 1 and x >=2).\n",
    "* **Unbounded**: The constraints are not bounded, maximising the solution will tend towards infinity (e.g. if the only constraint was x >= 3).\n",
    "* **Undefined**: The optimal solution may exist but may not have been found."
   ]
  },
  {
   "cell_type": "markdown",
   "id": "42147d98",
   "metadata": {},
   "source": [
    "We can now view our maximal variable values and the maximum value of Z. \n",
    "\n",
    "We can use the varValue method to retrieve the values of our variables x and y, and the pulp.value function to view the maximum value of the objective function."
   ]
  },
  {
   "cell_type": "code",
   "execution_count": 9,
   "id": "09912ee8",
   "metadata": {
    "execution": {
     "iopub.execute_input": "2022-04-12T15:33:59.375161Z",
     "iopub.status.busy": "2022-04-12T15:33:59.374091Z",
     "iopub.status.idle": "2022-04-12T15:33:59.380674Z",
     "shell.execute_reply": "2022-04-12T15:33:59.379726Z",
     "shell.execute_reply.started": "2022-04-12T15:33:59.375116Z"
    }
   },
   "outputs": [
    {
     "name": "stdout",
     "output_type": "stream",
     "text": [
      "x = 14.5\n",
      "y = 5.25\n"
     ]
    }
   ],
   "source": [
    "for variable in my_lp_problem.variables():\n",
    "    print(\"{} = {}\".format(variable.name, variable.varValue))"
   ]
  },
  {
   "cell_type": "code",
   "execution_count": 10,
   "id": "147f9407",
   "metadata": {
    "execution": {
     "iopub.execute_input": "2022-04-09T23:15:49.777246Z",
     "iopub.status.busy": "2022-04-09T23:15:49.776911Z",
     "iopub.status.idle": "2022-04-09T23:15:49.781414Z",
     "shell.execute_reply": "2022-04-09T23:15:49.780715Z",
     "shell.execute_reply.started": "2022-04-09T23:15:49.777220Z"
    }
   },
   "outputs": [
    {
     "name": "stdout",
     "output_type": "stream",
     "text": [
      "73.75\n"
     ]
    }
   ],
   "source": [
    "print(pulp.value(my_lp_problem.objective))"
   ]
  },
  {
   "cell_type": "markdown",
   "id": "ceaf247b",
   "metadata": {},
   "source": [
    " Same values as our manual calculations in part 1.\n",
    " \n",
    " In the next part we'll be looking at a more real world problem."
   ]
  },
  {
   "cell_type": "code",
   "execution_count": null,
   "id": "1ec6722a",
   "metadata": {},
   "outputs": [],
   "source": []
  }
 ],
 "metadata": {
  "kernelspec": {
   "display_name": "Python 3 (ipykernel)",
   "language": "python",
   "name": "python3"
  },
  "language_info": {
   "codemirror_mode": {
    "name": "ipython",
    "version": 3
   },
   "file_extension": ".py",
   "mimetype": "text/x-python",
   "name": "python",
   "nbconvert_exporter": "python",
   "pygments_lexer": "ipython3",
   "version": "3.8.11"
  }
 },
 "nbformat": 4,
 "nbformat_minor": 5
}
